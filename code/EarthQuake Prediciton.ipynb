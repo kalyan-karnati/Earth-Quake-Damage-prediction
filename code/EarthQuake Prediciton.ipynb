{
 "cells": [
  {
   "cell_type": "code",
   "execution_count": 1,
   "metadata": {},
   "outputs": [],
   "source": [
    "import pandas as pd\n",
    "import numpy as np\n",
    "import seaborn as sns\n",
    "import matplotlib.pyplot as plt\n",
    "import scipy.stats as ss\n",
    "from scipy.stats import chi2_contingency\n",
    "from scipy.stats import chi2\n",
    "from sklearn.ensemble import RandomForestRegressor, RandomForestClassifier\n",
    "from sklearn.tree import DecisionTreeClassifier\n",
    "\n",
    "#To Ignore Warnings\n",
    "import warnings\n",
    "warnings.filterwarnings('ignore')"
   ]
  },
  {
   "cell_type": "code",
   "execution_count": 2,
   "metadata": {},
   "outputs": [],
   "source": [
    "train=pd.read_csv('C:/Users/USER/Desktop/Project/Analysis and Prediction of Earthquake/Dataset/train.csv')\n",
    "test=pd.read_csv('C:/Users/USER/Desktop/Project/Analysis and Prediction of Earthquake/Dataset/test.csv')"
   ]
  },
  {
   "cell_type": "code",
   "execution_count": 3,
   "metadata": {},
   "outputs": [
    {
     "data": {
      "text/plain": [
       "((631761, 14), (421175, 13))"
      ]
     },
     "execution_count": 3,
     "metadata": {},
     "output_type": "execute_result"
    }
   ],
   "source": [
    "train.shape,test.shape"
   ]
  },
  {
   "cell_type": "code",
   "execution_count": 4,
   "metadata": {},
   "outputs": [
    {
     "data": {
      "text/html": [
       "<div>\n",
       "<style scoped>\n",
       "    .dataframe tbody tr th:only-of-type {\n",
       "        vertical-align: middle;\n",
       "    }\n",
       "\n",
       "    .dataframe tbody tr th {\n",
       "        vertical-align: top;\n",
       "    }\n",
       "\n",
       "    .dataframe thead th {\n",
       "        text-align: right;\n",
       "    }\n",
       "</style>\n",
       "<table border=\"1\" class=\"dataframe\">\n",
       "  <thead>\n",
       "    <tr style=\"text-align: right;\">\n",
       "      <th></th>\n",
       "      <th>area_assesed</th>\n",
       "      <th>building_id</th>\n",
       "      <th>damage_grade</th>\n",
       "      <th>district_id</th>\n",
       "      <th>has_geotechnical_risk</th>\n",
       "      <th>has_geotechnical_risk_fault_crack</th>\n",
       "      <th>has_geotechnical_risk_flood</th>\n",
       "      <th>has_geotechnical_risk_land_settlement</th>\n",
       "      <th>has_geotechnical_risk_landslide</th>\n",
       "      <th>has_geotechnical_risk_liquefaction</th>\n",
       "      <th>has_geotechnical_risk_other</th>\n",
       "      <th>has_geotechnical_risk_rock_fall</th>\n",
       "      <th>has_repair_started</th>\n",
       "      <th>vdcmun_id</th>\n",
       "    </tr>\n",
       "  </thead>\n",
       "  <tbody>\n",
       "    <tr>\n",
       "      <th>0</th>\n",
       "      <td>Both</td>\n",
       "      <td>24385bfd2a2</td>\n",
       "      <td>Grade 4</td>\n",
       "      <td>24</td>\n",
       "      <td>0.0</td>\n",
       "      <td>0</td>\n",
       "      <td>0</td>\n",
       "      <td>0</td>\n",
       "      <td>0</td>\n",
       "      <td>0</td>\n",
       "      <td>0</td>\n",
       "      <td>0</td>\n",
       "      <td>0.0</td>\n",
       "      <td>2489</td>\n",
       "    </tr>\n",
       "    <tr>\n",
       "      <th>1</th>\n",
       "      <td>Both</td>\n",
       "      <td>405d1bbebbf</td>\n",
       "      <td>Grade 2</td>\n",
       "      <td>44</td>\n",
       "      <td>0.0</td>\n",
       "      <td>0</td>\n",
       "      <td>0</td>\n",
       "      <td>0</td>\n",
       "      <td>0</td>\n",
       "      <td>0</td>\n",
       "      <td>0</td>\n",
       "      <td>0</td>\n",
       "      <td>1.0</td>\n",
       "      <td>4423</td>\n",
       "    </tr>\n",
       "    <tr>\n",
       "      <th>2</th>\n",
       "      <td>Both</td>\n",
       "      <td>351d9bc71f6</td>\n",
       "      <td>Grade 1</td>\n",
       "      <td>36</td>\n",
       "      <td>0.0</td>\n",
       "      <td>0</td>\n",
       "      <td>0</td>\n",
       "      <td>0</td>\n",
       "      <td>0</td>\n",
       "      <td>0</td>\n",
       "      <td>0</td>\n",
       "      <td>0</td>\n",
       "      <td>0.0</td>\n",
       "      <td>3650</td>\n",
       "    </tr>\n",
       "    <tr>\n",
       "      <th>3</th>\n",
       "      <td>Building removed</td>\n",
       "      <td>2be3a971166</td>\n",
       "      <td>Grade 5</td>\n",
       "      <td>30</td>\n",
       "      <td>0.0</td>\n",
       "      <td>0</td>\n",
       "      <td>0</td>\n",
       "      <td>0</td>\n",
       "      <td>0</td>\n",
       "      <td>0</td>\n",
       "      <td>0</td>\n",
       "      <td>0</td>\n",
       "      <td>0.0</td>\n",
       "      <td>3016</td>\n",
       "    </tr>\n",
       "    <tr>\n",
       "      <th>4</th>\n",
       "      <td>Both</td>\n",
       "      <td>34c7d073ea6</td>\n",
       "      <td>Grade 3</td>\n",
       "      <td>36</td>\n",
       "      <td>0.0</td>\n",
       "      <td>0</td>\n",
       "      <td>0</td>\n",
       "      <td>0</td>\n",
       "      <td>0</td>\n",
       "      <td>0</td>\n",
       "      <td>0</td>\n",
       "      <td>0</td>\n",
       "      <td>0.0</td>\n",
       "      <td>3627</td>\n",
       "    </tr>\n",
       "  </tbody>\n",
       "</table>\n",
       "</div>"
      ],
      "text/plain": [
       "       area_assesed  building_id damage_grade  district_id  \\\n",
       "0              Both  24385bfd2a2      Grade 4           24   \n",
       "1              Both  405d1bbebbf      Grade 2           44   \n",
       "2              Both  351d9bc71f6      Grade 1           36   \n",
       "3  Building removed  2be3a971166      Grade 5           30   \n",
       "4              Both  34c7d073ea6      Grade 3           36   \n",
       "\n",
       "   has_geotechnical_risk  has_geotechnical_risk_fault_crack  \\\n",
       "0                    0.0                                  0   \n",
       "1                    0.0                                  0   \n",
       "2                    0.0                                  0   \n",
       "3                    0.0                                  0   \n",
       "4                    0.0                                  0   \n",
       "\n",
       "   has_geotechnical_risk_flood  has_geotechnical_risk_land_settlement  \\\n",
       "0                            0                                      0   \n",
       "1                            0                                      0   \n",
       "2                            0                                      0   \n",
       "3                            0                                      0   \n",
       "4                            0                                      0   \n",
       "\n",
       "   has_geotechnical_risk_landslide  has_geotechnical_risk_liquefaction  \\\n",
       "0                                0                                   0   \n",
       "1                                0                                   0   \n",
       "2                                0                                   0   \n",
       "3                                0                                   0   \n",
       "4                                0                                   0   \n",
       "\n",
       "   has_geotechnical_risk_other  has_geotechnical_risk_rock_fall  \\\n",
       "0                            0                                0   \n",
       "1                            0                                0   \n",
       "2                            0                                0   \n",
       "3                            0                                0   \n",
       "4                            0                                0   \n",
       "\n",
       "   has_repair_started  vdcmun_id  \n",
       "0                 0.0       2489  \n",
       "1                 1.0       4423  \n",
       "2                 0.0       3650  \n",
       "3                 0.0       3016  \n",
       "4                 0.0       3627  "
      ]
     },
     "execution_count": 4,
     "metadata": {},
     "output_type": "execute_result"
    }
   ],
   "source": [
    "train.head()"
   ]
  },
  {
   "cell_type": "code",
   "execution_count": 5,
   "metadata": {},
   "outputs": [
    {
     "data": {
      "text/html": [
       "<div>\n",
       "<style scoped>\n",
       "    .dataframe tbody tr th:only-of-type {\n",
       "        vertical-align: middle;\n",
       "    }\n",
       "\n",
       "    .dataframe tbody tr th {\n",
       "        vertical-align: top;\n",
       "    }\n",
       "\n",
       "    .dataframe thead th {\n",
       "        text-align: right;\n",
       "    }\n",
       "</style>\n",
       "<table border=\"1\" class=\"dataframe\">\n",
       "  <thead>\n",
       "    <tr style=\"text-align: right;\">\n",
       "      <th></th>\n",
       "      <th>area_assesed</th>\n",
       "      <th>building_id</th>\n",
       "      <th>district_id</th>\n",
       "      <th>has_geotechnical_risk</th>\n",
       "      <th>has_geotechnical_risk_fault_crack</th>\n",
       "      <th>has_geotechnical_risk_flood</th>\n",
       "      <th>has_geotechnical_risk_land_settlement</th>\n",
       "      <th>has_geotechnical_risk_landslide</th>\n",
       "      <th>has_geotechnical_risk_liquefaction</th>\n",
       "      <th>has_geotechnical_risk_other</th>\n",
       "      <th>has_geotechnical_risk_rock_fall</th>\n",
       "      <th>has_repair_started</th>\n",
       "      <th>vdcmun_id</th>\n",
       "    </tr>\n",
       "  </thead>\n",
       "  <tbody>\n",
       "    <tr>\n",
       "      <th>0</th>\n",
       "      <td>Both</td>\n",
       "      <td>a3380c4f75</td>\n",
       "      <td>7</td>\n",
       "      <td>0</td>\n",
       "      <td>0</td>\n",
       "      <td>0</td>\n",
       "      <td>0</td>\n",
       "      <td>0</td>\n",
       "      <td>0</td>\n",
       "      <td>0</td>\n",
       "      <td>0</td>\n",
       "      <td>1.0</td>\n",
       "      <td>701</td>\n",
       "    </tr>\n",
       "    <tr>\n",
       "      <th>1</th>\n",
       "      <td>Both</td>\n",
       "      <td>a338a4e653</td>\n",
       "      <td>7</td>\n",
       "      <td>0</td>\n",
       "      <td>0</td>\n",
       "      <td>0</td>\n",
       "      <td>0</td>\n",
       "      <td>0</td>\n",
       "      <td>0</td>\n",
       "      <td>0</td>\n",
       "      <td>0</td>\n",
       "      <td>1.0</td>\n",
       "      <td>701</td>\n",
       "    </tr>\n",
       "    <tr>\n",
       "      <th>2</th>\n",
       "      <td>Building removed</td>\n",
       "      <td>a338a4e6b7</td>\n",
       "      <td>7</td>\n",
       "      <td>0</td>\n",
       "      <td>0</td>\n",
       "      <td>0</td>\n",
       "      <td>0</td>\n",
       "      <td>0</td>\n",
       "      <td>0</td>\n",
       "      <td>0</td>\n",
       "      <td>0</td>\n",
       "      <td>1.0</td>\n",
       "      <td>701</td>\n",
       "    </tr>\n",
       "    <tr>\n",
       "      <th>3</th>\n",
       "      <td>Both</td>\n",
       "      <td>a33a6eaa3a</td>\n",
       "      <td>7</td>\n",
       "      <td>0</td>\n",
       "      <td>0</td>\n",
       "      <td>0</td>\n",
       "      <td>0</td>\n",
       "      <td>0</td>\n",
       "      <td>0</td>\n",
       "      <td>0</td>\n",
       "      <td>0</td>\n",
       "      <td>1.0</td>\n",
       "      <td>701</td>\n",
       "    </tr>\n",
       "    <tr>\n",
       "      <th>4</th>\n",
       "      <td>Building removed</td>\n",
       "      <td>a33b073ff6</td>\n",
       "      <td>7</td>\n",
       "      <td>0</td>\n",
       "      <td>0</td>\n",
       "      <td>0</td>\n",
       "      <td>0</td>\n",
       "      <td>0</td>\n",
       "      <td>0</td>\n",
       "      <td>0</td>\n",
       "      <td>0</td>\n",
       "      <td>1.0</td>\n",
       "      <td>701</td>\n",
       "    </tr>\n",
       "  </tbody>\n",
       "</table>\n",
       "</div>"
      ],
      "text/plain": [
       "       area_assesed building_id  district_id  has_geotechnical_risk  \\\n",
       "0              Both  a3380c4f75            7                      0   \n",
       "1              Both  a338a4e653            7                      0   \n",
       "2  Building removed  a338a4e6b7            7                      0   \n",
       "3              Both  a33a6eaa3a            7                      0   \n",
       "4  Building removed  a33b073ff6            7                      0   \n",
       "\n",
       "   has_geotechnical_risk_fault_crack  has_geotechnical_risk_flood  \\\n",
       "0                                  0                            0   \n",
       "1                                  0                            0   \n",
       "2                                  0                            0   \n",
       "3                                  0                            0   \n",
       "4                                  0                            0   \n",
       "\n",
       "   has_geotechnical_risk_land_settlement  has_geotechnical_risk_landslide  \\\n",
       "0                                      0                                0   \n",
       "1                                      0                                0   \n",
       "2                                      0                                0   \n",
       "3                                      0                                0   \n",
       "4                                      0                                0   \n",
       "\n",
       "   has_geotechnical_risk_liquefaction  has_geotechnical_risk_other  \\\n",
       "0                                   0                            0   \n",
       "1                                   0                            0   \n",
       "2                                   0                            0   \n",
       "3                                   0                            0   \n",
       "4                                   0                            0   \n",
       "\n",
       "   has_geotechnical_risk_rock_fall  has_repair_started  vdcmun_id  \n",
       "0                                0                 1.0        701  \n",
       "1                                0                 1.0        701  \n",
       "2                                0                 1.0        701  \n",
       "3                                0                 1.0        701  \n",
       "4                                0                 1.0        701  "
      ]
     },
     "execution_count": 5,
     "metadata": {},
     "output_type": "execute_result"
    }
   ],
   "source": [
    "test.head()"
   ]
  },
  {
   "cell_type": "code",
   "execution_count": 6,
   "metadata": {},
   "outputs": [
    {
     "data": {
      "text/plain": [
       "(Index(['area_assesed', 'building_id', 'damage_grade', 'district_id',\n",
       "        'has_geotechnical_risk', 'has_geotechnical_risk_fault_crack',\n",
       "        'has_geotechnical_risk_flood', 'has_geotechnical_risk_land_settlement',\n",
       "        'has_geotechnical_risk_landslide', 'has_geotechnical_risk_liquefaction',\n",
       "        'has_geotechnical_risk_other', 'has_geotechnical_risk_rock_fall',\n",
       "        'has_repair_started', 'vdcmun_id'],\n",
       "       dtype='object'),\n",
       " Index(['area_assesed', 'building_id', 'district_id', 'has_geotechnical_risk',\n",
       "        'has_geotechnical_risk_fault_crack', 'has_geotechnical_risk_flood',\n",
       "        'has_geotechnical_risk_land_settlement',\n",
       "        'has_geotechnical_risk_landslide', 'has_geotechnical_risk_liquefaction',\n",
       "        'has_geotechnical_risk_other', 'has_geotechnical_risk_rock_fall',\n",
       "        'has_repair_started', 'vdcmun_id'],\n",
       "       dtype='object'))"
      ]
     },
     "execution_count": 6,
     "metadata": {},
     "output_type": "execute_result"
    }
   ],
   "source": [
    "train.columns,test.columns"
   ]
  },
  {
   "cell_type": "code",
   "execution_count": 7,
   "metadata": {},
   "outputs": [
    {
     "data": {
      "text/plain": [
       "(14, 13)"
      ]
     },
     "execution_count": 7,
     "metadata": {},
     "output_type": "execute_result"
    }
   ],
   "source": [
    "len(train.columns),len(test.columns)"
   ]
  },
  {
   "cell_type": "code",
   "execution_count": 8,
   "metadata": {},
   "outputs": [
    {
     "data": {
      "text/plain": [
       "area_assesed                                 0\n",
       "building_id                                  0\n",
       "damage_grade                                 0\n",
       "district_id                                  0\n",
       "has_geotechnical_risk                        0\n",
       "has_geotechnical_risk_fault_crack            0\n",
       "has_geotechnical_risk_flood                  0\n",
       "has_geotechnical_risk_land_settlement        0\n",
       "has_geotechnical_risk_landslide              0\n",
       "has_geotechnical_risk_liquefaction           0\n",
       "has_geotechnical_risk_other                  0\n",
       "has_geotechnical_risk_rock_fall              0\n",
       "has_repair_started                       33417\n",
       "vdcmun_id                                    0\n",
       "dtype: int64"
      ]
     },
     "execution_count": 8,
     "metadata": {},
     "output_type": "execute_result"
    }
   ],
   "source": [
    "train.isnull().sum()"
   ]
  },
  {
   "cell_type": "code",
   "execution_count": 9,
   "metadata": {},
   "outputs": [
    {
     "data": {
      "text/plain": [
       "area_assesed                                 0\n",
       "building_id                                  0\n",
       "district_id                                  0\n",
       "has_geotechnical_risk                        0\n",
       "has_geotechnical_risk_fault_crack            0\n",
       "has_geotechnical_risk_flood                  0\n",
       "has_geotechnical_risk_land_settlement        0\n",
       "has_geotechnical_risk_landslide              0\n",
       "has_geotechnical_risk_liquefaction           0\n",
       "has_geotechnical_risk_other                  0\n",
       "has_geotechnical_risk_rock_fall              0\n",
       "has_repair_started                       21922\n",
       "vdcmun_id                                    0\n",
       "dtype: int64"
      ]
     },
     "execution_count": 9,
     "metadata": {},
     "output_type": "execute_result"
    }
   ],
   "source": [
    "test.isnull().sum()"
   ]
  },
  {
   "cell_type": "code",
   "execution_count": 10,
   "metadata": {},
   "outputs": [],
   "source": [
    "owner = pd.read_csv('C:/Users/USER/Desktop/Project/Analysis and Prediction of Earthquake/Dataset/Building_Ownership_Use.csv')\n",
    "structure = pd.read_csv('C:/Users/USER/Desktop/Project/Analysis and Prediction of Earthquake/Dataset/Building_Structure.csv')"
   ]
  },
  {
   "cell_type": "code",
   "execution_count": 11,
   "metadata": {},
   "outputs": [],
   "source": [
    "combine = pd.merge(owner,structure, on='building_id')\n",
    "trainfinal = pd.merge(combine,train, on = 'building_id')\n",
    "testfinal = pd.merge(combine,test, on = 'building_id')"
   ]
  },
  {
   "cell_type": "code",
   "execution_count": 12,
   "metadata": {},
   "outputs": [
    {
     "data": {
      "text/plain": [
       "(Index(['building_id', 'district_id_x', 'vdcmun_id_x', 'ward_id_x',\n",
       "        'legal_ownership_status', 'count_families', 'has_secondary_use',\n",
       "        'has_secondary_use_agriculture', 'has_secondary_use_hotel',\n",
       "        'has_secondary_use_rental', 'has_secondary_use_institution',\n",
       "        'has_secondary_use_school', 'has_secondary_use_industry',\n",
       "        'has_secondary_use_health_post', 'has_secondary_use_gov_office',\n",
       "        'has_secondary_use_use_police', 'has_secondary_use_other',\n",
       "        'district_id_y', 'vdcmun_id_y', 'ward_id_y', 'count_floors_pre_eq',\n",
       "        'count_floors_post_eq', 'age_building', 'plinth_area_sq_ft',\n",
       "        'height_ft_pre_eq', 'height_ft_post_eq', 'land_surface_condition',\n",
       "        'foundation_type', 'roof_type', 'ground_floor_type', 'other_floor_type',\n",
       "        'position', 'plan_configuration', 'has_superstructure_adobe_mud',\n",
       "        'has_superstructure_mud_mortar_stone', 'has_superstructure_stone_flag',\n",
       "        'has_superstructure_cement_mortar_stone',\n",
       "        'has_superstructure_mud_mortar_brick',\n",
       "        'has_superstructure_cement_mortar_brick', 'has_superstructure_timber',\n",
       "        'has_superstructure_bamboo', 'has_superstructure_rc_non_engineered',\n",
       "        'has_superstructure_rc_engineered', 'has_superstructure_other',\n",
       "        'condition_post_eq', 'area_assesed', 'damage_grade', 'district_id',\n",
       "        'has_geotechnical_risk', 'has_geotechnical_risk_fault_crack',\n",
       "        'has_geotechnical_risk_flood', 'has_geotechnical_risk_land_settlement',\n",
       "        'has_geotechnical_risk_landslide', 'has_geotechnical_risk_liquefaction',\n",
       "        'has_geotechnical_risk_other', 'has_geotechnical_risk_rock_fall',\n",
       "        'has_repair_started', 'vdcmun_id'],\n",
       "       dtype='object'),\n",
       " Index(['building_id', 'district_id_x', 'vdcmun_id_x', 'ward_id_x',\n",
       "        'legal_ownership_status', 'count_families', 'has_secondary_use',\n",
       "        'has_secondary_use_agriculture', 'has_secondary_use_hotel',\n",
       "        'has_secondary_use_rental', 'has_secondary_use_institution',\n",
       "        'has_secondary_use_school', 'has_secondary_use_industry',\n",
       "        'has_secondary_use_health_post', 'has_secondary_use_gov_office',\n",
       "        'has_secondary_use_use_police', 'has_secondary_use_other',\n",
       "        'district_id_y', 'vdcmun_id_y', 'ward_id_y', 'count_floors_pre_eq',\n",
       "        'count_floors_post_eq', 'age_building', 'plinth_area_sq_ft',\n",
       "        'height_ft_pre_eq', 'height_ft_post_eq', 'land_surface_condition',\n",
       "        'foundation_type', 'roof_type', 'ground_floor_type', 'other_floor_type',\n",
       "        'position', 'plan_configuration', 'has_superstructure_adobe_mud',\n",
       "        'has_superstructure_mud_mortar_stone', 'has_superstructure_stone_flag',\n",
       "        'has_superstructure_cement_mortar_stone',\n",
       "        'has_superstructure_mud_mortar_brick',\n",
       "        'has_superstructure_cement_mortar_brick', 'has_superstructure_timber',\n",
       "        'has_superstructure_bamboo', 'has_superstructure_rc_non_engineered',\n",
       "        'has_superstructure_rc_engineered', 'has_superstructure_other',\n",
       "        'condition_post_eq', 'area_assesed', 'district_id',\n",
       "        'has_geotechnical_risk', 'has_geotechnical_risk_fault_crack',\n",
       "        'has_geotechnical_risk_flood', 'has_geotechnical_risk_land_settlement',\n",
       "        'has_geotechnical_risk_landslide', 'has_geotechnical_risk_liquefaction',\n",
       "        'has_geotechnical_risk_other', 'has_geotechnical_risk_rock_fall',\n",
       "        'has_repair_started', 'vdcmun_id'],\n",
       "       dtype='object'),\n",
       " 58,\n",
       " 57)"
      ]
     },
     "execution_count": 12,
     "metadata": {},
     "output_type": "execute_result"
    }
   ],
   "source": [
    "trainfinal.columns,testfinal.columns,len(trainfinal.columns),len(testfinal.columns)"
   ]
  },
  {
   "cell_type": "code",
   "execution_count": 13,
   "metadata": {},
   "outputs": [
    {
     "name": "stdout",
     "output_type": "stream",
     "text": [
      "<class 'pandas.core.frame.DataFrame'>\n",
      "Int64Index: 631761 entries, 0 to 631760\n",
      "Data columns (total 58 columns):\n",
      " #   Column                                  Non-Null Count   Dtype  \n",
      "---  ------                                  --------------   -----  \n",
      " 0   building_id                             631761 non-null  object \n",
      " 1   district_id_x                           631761 non-null  int64  \n",
      " 2   vdcmun_id_x                             631761 non-null  int64  \n",
      " 3   ward_id_x                               631761 non-null  int64  \n",
      " 4   legal_ownership_status                  631761 non-null  object \n",
      " 5   count_families                          631760 non-null  float64\n",
      " 6   has_secondary_use                       631761 non-null  float64\n",
      " 7   has_secondary_use_agriculture           631761 non-null  int64  \n",
      " 8   has_secondary_use_hotel                 631761 non-null  int64  \n",
      " 9   has_secondary_use_rental                631761 non-null  int64  \n",
      " 10  has_secondary_use_institution           631761 non-null  int64  \n",
      " 11  has_secondary_use_school                631761 non-null  int64  \n",
      " 12  has_secondary_use_industry              631761 non-null  int64  \n",
      " 13  has_secondary_use_health_post           631761 non-null  int64  \n",
      " 14  has_secondary_use_gov_office            631761 non-null  int64  \n",
      " 15  has_secondary_use_use_police            631761 non-null  int64  \n",
      " 16  has_secondary_use_other                 631761 non-null  int64  \n",
      " 17  district_id_y                           631761 non-null  int64  \n",
      " 18  vdcmun_id_y                             631761 non-null  int64  \n",
      " 19  ward_id_y                               631761 non-null  int64  \n",
      " 20  count_floors_pre_eq                     631761 non-null  int64  \n",
      " 21  count_floors_post_eq                    631761 non-null  int64  \n",
      " 22  age_building                            631761 non-null  int64  \n",
      " 23  plinth_area_sq_ft                       631761 non-null  int64  \n",
      " 24  height_ft_pre_eq                        631761 non-null  int64  \n",
      " 25  height_ft_post_eq                       631761 non-null  int64  \n",
      " 26  land_surface_condition                  631761 non-null  object \n",
      " 27  foundation_type                         631761 non-null  object \n",
      " 28  roof_type                               631761 non-null  object \n",
      " 29  ground_floor_type                       631761 non-null  object \n",
      " 30  other_floor_type                        631761 non-null  object \n",
      " 31  position                                631761 non-null  object \n",
      " 32  plan_configuration                      631761 non-null  object \n",
      " 33  has_superstructure_adobe_mud            631761 non-null  int64  \n",
      " 34  has_superstructure_mud_mortar_stone     631761 non-null  int64  \n",
      " 35  has_superstructure_stone_flag           631761 non-null  int64  \n",
      " 36  has_superstructure_cement_mortar_stone  631761 non-null  int64  \n",
      " 37  has_superstructure_mud_mortar_brick     631761 non-null  int64  \n",
      " 38  has_superstructure_cement_mortar_brick  631761 non-null  int64  \n",
      " 39  has_superstructure_timber               631761 non-null  int64  \n",
      " 40  has_superstructure_bamboo               631761 non-null  int64  \n",
      " 41  has_superstructure_rc_non_engineered    631761 non-null  int64  \n",
      " 42  has_superstructure_rc_engineered        631761 non-null  int64  \n",
      " 43  has_superstructure_other                631761 non-null  int64  \n",
      " 44  condition_post_eq                       631761 non-null  object \n",
      " 45  area_assesed                            631761 non-null  object \n",
      " 46  damage_grade                            631761 non-null  object \n",
      " 47  district_id                             631761 non-null  int64  \n",
      " 48  has_geotechnical_risk                   631761 non-null  float64\n",
      " 49  has_geotechnical_risk_fault_crack       631761 non-null  int64  \n",
      " 50  has_geotechnical_risk_flood             631761 non-null  int64  \n",
      " 51  has_geotechnical_risk_land_settlement   631761 non-null  int64  \n",
      " 52  has_geotechnical_risk_landslide         631761 non-null  int64  \n",
      " 53  has_geotechnical_risk_liquefaction      631761 non-null  int64  \n",
      " 54  has_geotechnical_risk_other             631761 non-null  int64  \n",
      " 55  has_geotechnical_risk_rock_fall         631761 non-null  int64  \n",
      " 56  has_repair_started                      598344 non-null  float64\n",
      " 57  vdcmun_id                               631761 non-null  int64  \n",
      "dtypes: float64(4), int64(42), object(12)\n",
      "memory usage: 284.4+ MB\n"
     ]
    }
   ],
   "source": [
    "trainfinal.info()"
   ]
  },
  {
   "cell_type": "markdown",
   "metadata": {},
   "source": []
  },
  {
   "cell_type": "code",
   "execution_count": 14,
   "metadata": {},
   "outputs": [
    {
     "name": "stdout",
     "output_type": "stream",
     "text": [
      "<class 'pandas.core.frame.DataFrame'>\n",
      "Int64Index: 419863 entries, 0 to 419862\n",
      "Data columns (total 57 columns):\n",
      " #   Column                                  Non-Null Count   Dtype  \n",
      "---  ------                                  --------------   -----  \n",
      " 0   building_id                             419863 non-null  object \n",
      " 1   district_id_x                           419863 non-null  int64  \n",
      " 2   vdcmun_id_x                             419863 non-null  int64  \n",
      " 3   ward_id_x                               419863 non-null  int64  \n",
      " 4   legal_ownership_status                  419863 non-null  object \n",
      " 5   count_families                          419863 non-null  float64\n",
      " 6   has_secondary_use                       419863 non-null  float64\n",
      " 7   has_secondary_use_agriculture           419863 non-null  int64  \n",
      " 8   has_secondary_use_hotel                 419863 non-null  int64  \n",
      " 9   has_secondary_use_rental                419863 non-null  int64  \n",
      " 10  has_secondary_use_institution           419863 non-null  int64  \n",
      " 11  has_secondary_use_school                419863 non-null  int64  \n",
      " 12  has_secondary_use_industry              419863 non-null  int64  \n",
      " 13  has_secondary_use_health_post           419863 non-null  int64  \n",
      " 14  has_secondary_use_gov_office            419863 non-null  int64  \n",
      " 15  has_secondary_use_use_police            419863 non-null  int64  \n",
      " 16  has_secondary_use_other                 419863 non-null  int64  \n",
      " 17  district_id_y                           419863 non-null  int64  \n",
      " 18  vdcmun_id_y                             419863 non-null  int64  \n",
      " 19  ward_id_y                               419863 non-null  int64  \n",
      " 20  count_floors_pre_eq                     419863 non-null  int64  \n",
      " 21  count_floors_post_eq                    419863 non-null  int64  \n",
      " 22  age_building                            419863 non-null  int64  \n",
      " 23  plinth_area_sq_ft                       419863 non-null  int64  \n",
      " 24  height_ft_pre_eq                        419863 non-null  int64  \n",
      " 25  height_ft_post_eq                       419863 non-null  int64  \n",
      " 26  land_surface_condition                  419863 non-null  object \n",
      " 27  foundation_type                         419863 non-null  object \n",
      " 28  roof_type                               419863 non-null  object \n",
      " 29  ground_floor_type                       419863 non-null  object \n",
      " 30  other_floor_type                        419863 non-null  object \n",
      " 31  position                                419863 non-null  object \n",
      " 32  plan_configuration                      419863 non-null  object \n",
      " 33  has_superstructure_adobe_mud            419863 non-null  int64  \n",
      " 34  has_superstructure_mud_mortar_stone     419863 non-null  int64  \n",
      " 35  has_superstructure_stone_flag           419863 non-null  int64  \n",
      " 36  has_superstructure_cement_mortar_stone  419863 non-null  int64  \n",
      " 37  has_superstructure_mud_mortar_brick     419863 non-null  int64  \n",
      " 38  has_superstructure_cement_mortar_brick  419863 non-null  int64  \n",
      " 39  has_superstructure_timber               419863 non-null  int64  \n",
      " 40  has_superstructure_bamboo               419863 non-null  int64  \n",
      " 41  has_superstructure_rc_non_engineered    419863 non-null  int64  \n",
      " 42  has_superstructure_rc_engineered        419863 non-null  int64  \n",
      " 43  has_superstructure_other                419863 non-null  int64  \n",
      " 44  condition_post_eq                       419863 non-null  object \n",
      " 45  area_assesed                            419863 non-null  object \n",
      " 46  district_id                             419863 non-null  int64  \n",
      " 47  has_geotechnical_risk                   419863 non-null  int64  \n",
      " 48  has_geotechnical_risk_fault_crack       419863 non-null  int64  \n",
      " 49  has_geotechnical_risk_flood             419863 non-null  int64  \n",
      " 50  has_geotechnical_risk_land_settlement   419863 non-null  int64  \n",
      " 51  has_geotechnical_risk_landslide         419863 non-null  int64  \n",
      " 52  has_geotechnical_risk_liquefaction      419863 non-null  int64  \n",
      " 53  has_geotechnical_risk_other             419863 non-null  int64  \n",
      " 54  has_geotechnical_risk_rock_fall         419863 non-null  int64  \n",
      " 55  has_repair_started                      397990 non-null  float64\n",
      " 56  vdcmun_id                               419863 non-null  int64  \n",
      "dtypes: float64(3), int64(43), object(11)\n",
      "memory usage: 185.8+ MB\n"
     ]
    }
   ],
   "source": [
    "testfinal.info()"
   ]
  },
  {
   "cell_type": "code",
   "execution_count": 15,
   "metadata": {},
   "outputs": [
    {
     "data": {
      "text/plain": [
       "building_id                                   0\n",
       "district_id_x                                 0\n",
       "vdcmun_id_x                                   0\n",
       "ward_id_x                                     0\n",
       "legal_ownership_status                        0\n",
       "count_families                                1\n",
       "has_secondary_use                             0\n",
       "has_secondary_use_agriculture                 0\n",
       "has_secondary_use_hotel                       0\n",
       "has_secondary_use_rental                      0\n",
       "has_secondary_use_institution                 0\n",
       "has_secondary_use_school                      0\n",
       "has_secondary_use_industry                    0\n",
       "has_secondary_use_health_post                 0\n",
       "has_secondary_use_gov_office                  0\n",
       "has_secondary_use_use_police                  0\n",
       "has_secondary_use_other                       0\n",
       "district_id_y                                 0\n",
       "vdcmun_id_y                                   0\n",
       "ward_id_y                                     0\n",
       "count_floors_pre_eq                           0\n",
       "count_floors_post_eq                          0\n",
       "age_building                                  0\n",
       "plinth_area_sq_ft                             0\n",
       "height_ft_pre_eq                              0\n",
       "height_ft_post_eq                             0\n",
       "land_surface_condition                        0\n",
       "foundation_type                               0\n",
       "roof_type                                     0\n",
       "ground_floor_type                             0\n",
       "other_floor_type                              0\n",
       "position                                      0\n",
       "plan_configuration                            0\n",
       "has_superstructure_adobe_mud                  0\n",
       "has_superstructure_mud_mortar_stone           0\n",
       "has_superstructure_stone_flag                 0\n",
       "has_superstructure_cement_mortar_stone        0\n",
       "has_superstructure_mud_mortar_brick           0\n",
       "has_superstructure_cement_mortar_brick        0\n",
       "has_superstructure_timber                     0\n",
       "has_superstructure_bamboo                     0\n",
       "has_superstructure_rc_non_engineered          0\n",
       "has_superstructure_rc_engineered              0\n",
       "has_superstructure_other                      0\n",
       "condition_post_eq                             0\n",
       "area_assesed                                  0\n",
       "damage_grade                                  0\n",
       "district_id                                   0\n",
       "has_geotechnical_risk                         0\n",
       "has_geotechnical_risk_fault_crack             0\n",
       "has_geotechnical_risk_flood                   0\n",
       "has_geotechnical_risk_land_settlement         0\n",
       "has_geotechnical_risk_landslide               0\n",
       "has_geotechnical_risk_liquefaction            0\n",
       "has_geotechnical_risk_other                   0\n",
       "has_geotechnical_risk_rock_fall               0\n",
       "has_repair_started                        33417\n",
       "vdcmun_id                                     0\n",
       "dtype: int64"
      ]
     },
     "execution_count": 15,
     "metadata": {},
     "output_type": "execute_result"
    }
   ],
   "source": [
    "trainfinal.isnull().sum()"
   ]
  },
  {
   "cell_type": "code",
   "execution_count": 16,
   "metadata": {},
   "outputs": [
    {
     "data": {
      "text/plain": [
       "building_id                                   0\n",
       "district_id_x                                 0\n",
       "vdcmun_id_x                                   0\n",
       "ward_id_x                                     0\n",
       "legal_ownership_status                        0\n",
       "count_families                                0\n",
       "has_secondary_use                             0\n",
       "has_secondary_use_agriculture                 0\n",
       "has_secondary_use_hotel                       0\n",
       "has_secondary_use_rental                      0\n",
       "has_secondary_use_institution                 0\n",
       "has_secondary_use_school                      0\n",
       "has_secondary_use_industry                    0\n",
       "has_secondary_use_health_post                 0\n",
       "has_secondary_use_gov_office                  0\n",
       "has_secondary_use_use_police                  0\n",
       "has_secondary_use_other                       0\n",
       "district_id_y                                 0\n",
       "vdcmun_id_y                                   0\n",
       "ward_id_y                                     0\n",
       "count_floors_pre_eq                           0\n",
       "count_floors_post_eq                          0\n",
       "age_building                                  0\n",
       "plinth_area_sq_ft                             0\n",
       "height_ft_pre_eq                              0\n",
       "height_ft_post_eq                             0\n",
       "land_surface_condition                        0\n",
       "foundation_type                               0\n",
       "roof_type                                     0\n",
       "ground_floor_type                             0\n",
       "other_floor_type                              0\n",
       "position                                      0\n",
       "plan_configuration                            0\n",
       "has_superstructure_adobe_mud                  0\n",
       "has_superstructure_mud_mortar_stone           0\n",
       "has_superstructure_stone_flag                 0\n",
       "has_superstructure_cement_mortar_stone        0\n",
       "has_superstructure_mud_mortar_brick           0\n",
       "has_superstructure_cement_mortar_brick        0\n",
       "has_superstructure_timber                     0\n",
       "has_superstructure_bamboo                     0\n",
       "has_superstructure_rc_non_engineered          0\n",
       "has_superstructure_rc_engineered              0\n",
       "has_superstructure_other                      0\n",
       "condition_post_eq                             0\n",
       "area_assesed                                  0\n",
       "district_id                                   0\n",
       "has_geotechnical_risk                         0\n",
       "has_geotechnical_risk_fault_crack             0\n",
       "has_geotechnical_risk_flood                   0\n",
       "has_geotechnical_risk_land_settlement         0\n",
       "has_geotechnical_risk_landslide               0\n",
       "has_geotechnical_risk_liquefaction            0\n",
       "has_geotechnical_risk_other                   0\n",
       "has_geotechnical_risk_rock_fall               0\n",
       "has_repair_started                        21873\n",
       "vdcmun_id                                     0\n",
       "dtype: int64"
      ]
     },
     "execution_count": 16,
     "metadata": {},
     "output_type": "execute_result"
    }
   ],
   "source": [
    "testfinal.isnull().sum()"
   ]
  },
  {
   "cell_type": "code",
   "execution_count": 17,
   "metadata": {},
   "outputs": [],
   "source": [
    "trainfinal.drop('has_repair_started',axis=1,inplace=True)\n",
    "testfinal.drop('has_repair_started',axis=1,inplace=True)"
   ]
  },
  {
   "cell_type": "code",
   "execution_count": 18,
   "metadata": {},
   "outputs": [],
   "source": [
    "trainfinal.drop((['vdcmun_id_y','district_id_y','ward_id_y','vdcmun_id','district_id']) , axis = 1,inplace=True)\n",
    "testfinal.drop((['vdcmun_id_y','district_id_y','ward_id_y','vdcmun_id','district_id']) , axis = 1,inplace=True)"
   ]
  },
  {
   "cell_type": "code",
   "execution_count": 19,
   "metadata": {},
   "outputs": [],
   "source": [
    "features = list(trainfinal.columns)\n",
    "features2=list(testfinal.columns)"
   ]
  },
  {
   "cell_type": "code",
   "execution_count": 20,
   "metadata": {},
   "outputs": [
    {
     "name": "stdout",
     "output_type": "stream",
     "text": [
      "<class 'pandas.core.frame.DataFrame'>\n",
      "Int64Index: 631761 entries, 0 to 631760\n",
      "Data columns (total 52 columns):\n",
      " #   Column                                  Non-Null Count   Dtype  \n",
      "---  ------                                  --------------   -----  \n",
      " 0   building_id                             631761 non-null  object \n",
      " 1   district_id_x                           631761 non-null  int64  \n",
      " 2   vdcmun_id_x                             631761 non-null  int64  \n",
      " 3   ward_id_x                               631761 non-null  int64  \n",
      " 4   legal_ownership_status                  631761 non-null  object \n",
      " 5   count_families                          631760 non-null  float64\n",
      " 6   has_secondary_use                       631761 non-null  float64\n",
      " 7   has_secondary_use_agriculture           631761 non-null  int64  \n",
      " 8   has_secondary_use_hotel                 631761 non-null  int64  \n",
      " 9   has_secondary_use_rental                631761 non-null  int64  \n",
      " 10  has_secondary_use_institution           631761 non-null  int64  \n",
      " 11  has_secondary_use_school                631761 non-null  int64  \n",
      " 12  has_secondary_use_industry              631761 non-null  int64  \n",
      " 13  has_secondary_use_health_post           631761 non-null  int64  \n",
      " 14  has_secondary_use_gov_office            631761 non-null  int64  \n",
      " 15  has_secondary_use_use_police            631761 non-null  int64  \n",
      " 16  has_secondary_use_other                 631761 non-null  int64  \n",
      " 17  count_floors_pre_eq                     631761 non-null  int64  \n",
      " 18  count_floors_post_eq                    631761 non-null  int64  \n",
      " 19  age_building                            631761 non-null  int64  \n",
      " 20  plinth_area_sq_ft                       631761 non-null  int64  \n",
      " 21  height_ft_pre_eq                        631761 non-null  int64  \n",
      " 22  height_ft_post_eq                       631761 non-null  int64  \n",
      " 23  land_surface_condition                  631761 non-null  object \n",
      " 24  foundation_type                         631761 non-null  object \n",
      " 25  roof_type                               631761 non-null  object \n",
      " 26  ground_floor_type                       631761 non-null  object \n",
      " 27  other_floor_type                        631761 non-null  object \n",
      " 28  position                                631761 non-null  object \n",
      " 29  plan_configuration                      631761 non-null  object \n",
      " 30  has_superstructure_adobe_mud            631761 non-null  int64  \n",
      " 31  has_superstructure_mud_mortar_stone     631761 non-null  int64  \n",
      " 32  has_superstructure_stone_flag           631761 non-null  int64  \n",
      " 33  has_superstructure_cement_mortar_stone  631761 non-null  int64  \n",
      " 34  has_superstructure_mud_mortar_brick     631761 non-null  int64  \n",
      " 35  has_superstructure_cement_mortar_brick  631761 non-null  int64  \n",
      " 36  has_superstructure_timber               631761 non-null  int64  \n",
      " 37  has_superstructure_bamboo               631761 non-null  int64  \n",
      " 38  has_superstructure_rc_non_engineered    631761 non-null  int64  \n",
      " 39  has_superstructure_rc_engineered        631761 non-null  int64  \n",
      " 40  has_superstructure_other                631761 non-null  int64  \n",
      " 41  condition_post_eq                       631761 non-null  object \n",
      " 42  area_assesed                            631761 non-null  object \n",
      " 43  damage_grade                            631761 non-null  object \n",
      " 44  has_geotechnical_risk                   631761 non-null  float64\n",
      " 45  has_geotechnical_risk_fault_crack       631761 non-null  int64  \n",
      " 46  has_geotechnical_risk_flood             631761 non-null  int64  \n",
      " 47  has_geotechnical_risk_land_settlement   631761 non-null  int64  \n",
      " 48  has_geotechnical_risk_landslide         631761 non-null  int64  \n",
      " 49  has_geotechnical_risk_liquefaction      631761 non-null  int64  \n",
      " 50  has_geotechnical_risk_other             631761 non-null  int64  \n",
      " 51  has_geotechnical_risk_rock_fall         631761 non-null  int64  \n",
      "dtypes: float64(3), int64(37), object(12)\n",
      "memory usage: 255.5+ MB\n"
     ]
    }
   ],
   "source": [
    "trainfinal.info()"
   ]
  },
  {
   "cell_type": "code",
   "execution_count": 21,
   "metadata": {},
   "outputs": [
    {
     "name": "stdout",
     "output_type": "stream",
     "text": [
      "Grade 5    210825\n",
      "Grade 4    152244\n",
      "Grade 3    122288\n",
      "Grade 2     85084\n",
      "Grade 1     61320\n",
      "Name: damage_grade, dtype: int64\n"
     ]
    },
    {
     "data": {
      "text/plain": [
       "(array([0, 1, 2, 3, 4]),\n",
       " [Text(0, 0, 'Grade 5'),\n",
       "  Text(1, 0, 'Grade 4'),\n",
       "  Text(2, 0, 'Grade 3'),\n",
       "  Text(3, 0, 'Grade 2'),\n",
       "  Text(4, 0, 'Grade 1')])"
      ]
     },
     "execution_count": 21,
     "metadata": {},
     "output_type": "execute_result"
    },
    {
     "data": {
      "image/png": "[encoded data removed]",
      "text/plain": [
       "<Figure size 432x288 with 1 Axes>"
      ]
     },
     "metadata": {},
     "output_type": "display_data"
    }
   ],
   "source": [
    "target = trainfinal['damage_grade'].value_counts()\n",
    "print(target)\n",
    "target = target.to_frame()\n",
    "target.columns = ['Count']\n",
    "target.index.names = ['Damage_Grade']\n",
    "target['Damage_Grade'] = target.index \n",
    "\n",
    "#Plotting the Target variable\n",
    "sns.set(style = 'whitegrid', color_codes = True)\n",
    "sns.barplot(x = 'Damage_Grade', y = 'Count', data = target)\n",
    "plt.xticks(rotation = 90)"
   ]
  },
  {
   "cell_type": "code",
   "execution_count": 22,
   "metadata": {},
   "outputs": [
    {
     "name": "stdout",
     "output_type": "stream",
     "text": [
      "Private          608347\n",
      "Public            13453\n",
      "Institutional      6280\n",
      "Other              3681\n",
      "Name: legal_ownership_status, dtype: int64\n"
     ]
    },
    {
     "data": {
      "text/plain": [
       "<AxesSubplot:>"
      ]
     },
     "execution_count": 22,
     "metadata": {},
     "output_type": "execute_result"
    },
    {
     "data": {
      "image/png": "[encoded data removed]",
      "text/plain": [
       "<Figure size 432x288 with 1 Axes>"
      ]
     },
     "metadata": {},
     "output_type": "display_data"
    }
   ],
   "source": [
    "print(trainfinal['legal_ownership_status'].value_counts())\n",
    "trainfinal['legal_ownership_status'].value_counts().plot.bar()"
   ]
  },
  {
   "cell_type": "code",
   "execution_count": 23,
   "metadata": {
    "scrolled": true
   },
   "outputs": [
    {
     "name": "stdout",
     "output_type": "stream",
     "text": [
      "0         32\n",
      "1         34\n",
      "2         20\n",
      "3         44\n",
      "4         25\n",
      "          ..\n",
      "631756    13\n",
      "631757    35\n",
      "631758    35\n",
      "631759    19\n",
      "631760    12\n",
      "Name: age_building, Length: 631761, dtype: int64\n"
     ]
    },
    {
     "data": {
      "text/plain": [
       "<AxesSubplot:xlabel='age_building', ylabel='Density'>"
      ]
     },
     "execution_count": 23,
     "metadata": {},
     "output_type": "execute_result"
    },
    {
     "data": {
      "image/png": "[encoded data removed]",
      "text/plain": [
       "<Figure size 432x288 with 1 Axes>"
      ]
     },
     "metadata": {},
     "output_type": "display_data"
    }
   ],
   "source": [
    "print(trainfinal['age_building'])\n",
    "sns.distplot(trainfinal['age_building'])"
   ]
  },
  {
   "cell_type": "code",
   "execution_count": 24,
   "metadata": {},
   "outputs": [
    {
     "name": "stdout",
     "output_type": "stream",
     "text": [
      "['Damaged-Repaired and used' 'Damaged-Not used' 'Damaged-Rubble clear'\n",
      " 'Damaged-Rubble Clear-New building built' 'Damaged-Used in risk'\n",
      " 'Damaged-Rubble unclear' 'Not damaged' 'Covered by landslide']\n"
     ]
    },
    {
     "data": {
      "text/plain": [
       "<AxesSubplot:>"
      ]
     },
     "execution_count": 24,
     "metadata": {},
     "output_type": "execute_result"
    },
    {
     "data": {
      "image/png": "[encoded data removed]",
      "text/plain": [
       "<Figure size 432x288 with 1 Axes>"
      ]
     },
     "metadata": {},
     "output_type": "display_data"
    }
   ],
   "source": [
    "print(trainfinal['condition_post_eq'].unique())\n",
    "trainfinal['condition_post_eq'].value_counts().plot.bar()"
   ]
  },
  {
   "cell_type": "code",
   "execution_count": 25,
   "metadata": {},
   "outputs": [
    {
     "name": "stdout",
     "output_type": "stream",
     "text": [
      "18    81243\n",
      "14    80882\n",
      "16    64473\n",
      "12    63038\n",
      "15    44843\n",
      "      ...  \n",
      "89        1\n",
      "90        1\n",
      "93        1\n",
      "95        1\n",
      "77        1\n",
      "Name: height_ft_pre_eq, Length: 78, dtype: int64\n"
     ]
    },
    {
     "data": {
      "text/plain": [
       "<AxesSubplot:ylabel='Frequency'>"
      ]
     },
     "execution_count": 25,
     "metadata": {},
     "output_type": "execute_result"
    },
    {
     "data": {
      "image/png": "[encoded data removed]",
      "text/plain": [
       "<Figure size 432x288 with 1 Axes>"
      ]
     },
     "metadata": {},
     "output_type": "display_data"
    }
   ],
   "source": [
    "print(trainfinal['height_ft_pre_eq'].value_counts())\n",
    "trainfinal['height_ft_pre_eq'].value_counts().plot.hist()"
   ]
  },
  {
   "cell_type": "code",
   "execution_count": 26,
   "metadata": {},
   "outputs": [
    {
     "name": "stdout",
     "output_type": "stream",
     "text": [
      "0                     Both\n",
      "1                     Both\n",
      "2                     Both\n",
      "3                     Both\n",
      "4                     Both\n",
      "                ...       \n",
      "631756                Both\n",
      "631757    Building removed\n",
      "631758    Building removed\n",
      "631759    Building removed\n",
      "631760    Building removed\n",
      "Name: area_assesed, Length: 631761, dtype: object\n"
     ]
    },
    {
     "data": {
      "text/plain": [
       "<AxesSubplot:xlabel='area_assesed', ylabel='count'>"
      ]
     },
     "execution_count": 26,
     "metadata": {},
     "output_type": "execute_result"
    },
    {
     "data": {
      "image/png": "[encoded data removed]",
      "text/plain": [
       "<Figure size 432x288 with 1 Axes>"
      ]
     },
     "metadata": {},
     "output_type": "display_data"
    }
   ],
   "source": [
    "sns.set(font_scale=0.7)\n",
    "print(trainfinal['area_assesed'])\n",
    "sns.countplot(trainfinal['area_assesed'])"
   ]
  },
  {
   "cell_type": "code",
   "execution_count": 27,
   "metadata": {},
   "outputs": [
    {
     "name": "stdout",
     "output_type": "stream",
     "text": [
      "0    2\n",
      "1    3\n",
      "2    3\n",
      "3    4\n",
      "4    3\n",
      "Name: damage_grade, dtype: int64\n"
     ]
    },
    {
     "data": {
      "text/plain": [
       "0    2\n",
       "1    3\n",
       "2    3\n",
       "3    4\n",
       "4    3\n",
       "Name: damage_grade, dtype: int64"
      ]
     },
     "execution_count": 27,
     "metadata": {},
     "output_type": "execute_result"
    }
   ],
   "source": [
    "conversion = {'damage_grade' : {\"Grade 1\" : 1, \"Grade 2\" : 2, \"Grade 3\" : 3,\"Grade 4\" : 4,\"Grade 5\" : 5}}\n",
    "train_temp = pd.DataFrame()\n",
    "train_temp['damage_grade'] = trainfinal['damage_grade']\n",
    "\n",
    "train_temp.replace(conversion, inplace = True)\n",
    "print(train_temp['damage_grade'].head())\n",
    "\n",
    "trainfinal['damage_grade'] = train_temp['damage_grade']\n",
    "trainfinal['damage_grade'].head()"
   ]
  },
  {
   "cell_type": "code",
   "execution_count": 28,
   "metadata": {},
   "outputs": [
    {
     "name": "stdout",
     "output_type": "stream",
     "text": [
      "['legal_ownership_status', 'land_surface_condition', 'foundation_type', 'roof_type', 'ground_floor_type', 'other_floor_type', 'position', 'plan_configuration', 'condition_post_eq', 'area_assesed']\n"
     ]
    }
   ],
   "source": [
    "cat = [c for c in trainfinal if trainfinal[c].dtypes == \"object\"]\n",
    "cat.remove('building_id')\n",
    "print(cat)"
   ]
  },
  {
   "cell_type": "code",
   "execution_count": 29,
   "metadata": {},
   "outputs": [],
   "source": [
    "def ChiSquareTest(cat,res_train):\n",
    "  \n",
    "  for c in cat:\n",
    "    print(c)\n",
    "    tab = pd.crosstab(res_train['damage_grade'], res_train[c])\n",
    "    stat, p, dof, expected = chi2_contingency(tab)\n",
    "    print('dof=%d' % dof)\n",
    "    #print(expected)\n",
    "    # interpret test-statistic\n",
    "    prob = 0.95\n",
    "    critical = chi2.ppf(prob, dof)\n",
    "    print('probability=%.3f, critical=%.3f, stat=%.3f' % (prob, critical, stat))\n",
    "    if abs(stat) >= critical:\n",
    "      print('Dependent (reject H0)')\n",
    "    else:\n",
    "      print('Independent (fail to reject H0)')\n",
    "    # interpret p-value\n",
    "    alpha = 1.0 - prob\n",
    "    print('significance=%.3f, p=%.3f' % (alpha, p))\n",
    "    if p <= alpha:\n",
    "      print('Dependent (reject H0)')\n",
    "    else:\n",
    "      print('Independent (fail to reject H0)')\n",
    "     \n",
    "    print(\" \")"
   ]
  },
  {
   "cell_type": "code",
   "execution_count": 30,
   "metadata": {},
   "outputs": [
    {
     "name": "stdout",
     "output_type": "stream",
     "text": [
      "legal_ownership_status\n",
      "dof=12\n",
      "probability=0.950, critical=21.026, stat=8113.932\n",
      "Dependent (reject H0)\n",
      "significance=0.050, p=0.000\n",
      "Dependent (reject H0)\n",
      " \n",
      "land_surface_condition\n",
      "dof=8\n",
      "probability=0.950, critical=15.507, stat=1408.392\n",
      "Dependent (reject H0)\n",
      "significance=0.050, p=0.000\n",
      "Dependent (reject H0)\n",
      " \n",
      "foundation_type\n",
      "dof=16\n",
      "probability=0.950, critical=26.296, stat=138103.743\n",
      "Dependent (reject H0)\n",
      "significance=0.050, p=0.000\n",
      "Dependent (reject H0)\n",
      " \n",
      "roof_type\n",
      "dof=8\n",
      "probability=0.950, critical=15.507, stat=85099.545\n",
      "Dependent (reject H0)\n",
      "significance=0.050, p=0.000\n",
      "Dependent (reject H0)\n",
      " \n",
      "ground_floor_type\n",
      "dof=16\n",
      "probability=0.950, critical=26.296, stat=107177.045\n",
      "Dependent (reject H0)\n",
      "significance=0.050, p=0.000\n",
      "Dependent (reject H0)\n",
      " \n",
      "other_floor_type\n",
      "dof=12\n",
      "probability=0.950, critical=21.026, stat=93978.074\n",
      "Dependent (reject H0)\n",
      "significance=0.050, p=0.000\n",
      "Dependent (reject H0)\n",
      " \n",
      "position\n",
      "dof=12\n",
      "probability=0.950, critical=21.026, stat=5026.896\n",
      "Dependent (reject H0)\n",
      "significance=0.050, p=0.000\n",
      "Dependent (reject H0)\n",
      " \n",
      "plan_configuration\n",
      "dof=36\n",
      "probability=0.950, critical=50.998, stat=4672.139\n",
      "Dependent (reject H0)\n",
      "significance=0.050, p=0.000\n",
      "Dependent (reject H0)\n",
      " \n",
      "condition_post_eq\n",
      "dof=28\n",
      "probability=0.950, critical=41.337, stat=1112041.847\n",
      "Dependent (reject H0)\n",
      "significance=0.050, p=0.000\n",
      "Dependent (reject H0)\n",
      " \n",
      "area_assesed\n",
      "dof=16\n",
      "probability=0.950, critical=26.296, stat=429576.136\n",
      "Dependent (reject H0)\n",
      "significance=0.050, p=0.000\n",
      "Dependent (reject H0)\n",
      " \n"
     ]
    }
   ],
   "source": [
    "ChiSquareTest(cat,trainfinal)"
   ]
  },
  {
   "cell_type": "code",
   "execution_count": 31,
   "metadata": {},
   "outputs": [
    {
     "data": {
      "text/plain": [
       "['has_secondary_use',\n",
       " 'has_secondary_use_agriculture',\n",
       " 'has_secondary_use_hotel',\n",
       " 'has_secondary_use_rental',\n",
       " 'has_secondary_use_institution',\n",
       " 'has_secondary_use_school',\n",
       " 'has_secondary_use_industry',\n",
       " 'has_secondary_use_health_post',\n",
       " 'has_secondary_use_gov_office',\n",
       " 'has_secondary_use_use_police',\n",
       " 'has_secondary_use_other',\n",
       " 'has_superstructure_adobe_mud',\n",
       " 'has_superstructure_mud_mortar_stone',\n",
       " 'has_superstructure_stone_flag',\n",
       " 'has_superstructure_cement_mortar_stone',\n",
       " 'has_superstructure_mud_mortar_brick',\n",
       " 'has_superstructure_cement_mortar_brick',\n",
       " 'has_superstructure_timber',\n",
       " 'has_superstructure_bamboo',\n",
       " 'has_superstructure_rc_non_engineered',\n",
       " 'has_superstructure_rc_engineered',\n",
       " 'has_superstructure_other',\n",
       " 'has_geotechnical_risk',\n",
       " 'has_geotechnical_risk_fault_crack',\n",
       " 'has_geotechnical_risk_flood',\n",
       " 'has_geotechnical_risk_land_settlement',\n",
       " 'has_geotechnical_risk_landslide',\n",
       " 'has_geotechnical_risk_liquefaction',\n",
       " 'has_geotechnical_risk_other',\n",
       " 'has_geotechnical_risk_rock_fall']"
      ]
     },
     "execution_count": 31,
     "metadata": {},
     "output_type": "execute_result"
    }
   ],
   "source": [
    "cat_binary = [c for c in trainfinal if len(trainfinal[c].unique()) == 2]\n",
    "cat_binary"
   ]
  },
  {
   "cell_type": "code",
   "execution_count": 32,
   "metadata": {},
   "outputs": [],
   "source": [
    "\n",
    "def cramers_v(x, y):\n",
    "  correlation_coeff = []\n",
    "  for c in cat_binary:\n",
    "    confusion_matrix = pd.crosstab(trainfinal[c],y)\n",
    "    chi2 = ss.chi2_contingency(confusion_matrix)[0]\n",
    "    n = confusion_matrix.sum().sum()\n",
    "    phi2 = chi2/n\n",
    "    r,k = confusion_matrix.shape\n",
    "    phi2corr = max(0, phi2-((k-1)*(r-1))/(n-1))\n",
    "    rcorr = r-((r-1)**2)/(n-1)\n",
    "    kcorr = k-((k-1)**2)/(n-1)\n",
    "    \n",
    "    correlation_coeff.append([c,np.sqrt(phi2corr/min((kcorr-1),(rcorr-1)))])\n",
    "    \n",
    "  return correlation_coeff"
   ]
  },
  {
   "cell_type": "code",
   "execution_count": 33,
   "metadata": {},
   "outputs": [
    {
     "data": {
      "text/plain": [
       "[['has_secondary_use', 0.08441248217165927],\n",
       " ['has_secondary_use_agriculture', 0.05948222661881513],\n",
       " ['has_secondary_use_hotel', 0.11931727185148487],\n",
       " ['has_secondary_use_rental', 0.10798851155159755],\n",
       " ['has_secondary_use_institution', 0.04000696439985445],\n",
       " ['has_secondary_use_school', 0.02115838376096302],\n",
       " ['has_secondary_use_industry', 0.012146442641532596],\n",
       " ['has_secondary_use_health_post', 0.009057079201118534],\n",
       " ['has_secondary_use_gov_office', 0.010428605108001273],\n",
       " ['has_secondary_use_use_police', 0.001672082018154515],\n",
       " ['has_secondary_use_other', 0.024000617699672995],\n",
       " ['has_superstructure_adobe_mud', 0.10906485273848247],\n",
       " ['has_superstructure_mud_mortar_stone', 0.3516007808920147],\n",
       " ['has_superstructure_stone_flag', 0.06369988742717195],\n",
       " ['has_superstructure_cement_mortar_stone', 0.07605311792908845],\n",
       " ['has_superstructure_mud_mortar_brick', 0.09329851436407582],\n",
       " ['has_superstructure_cement_mortar_brick', 0.31581765697361813],\n",
       " ['has_superstructure_timber', 0.08212323869868045],\n",
       " ['has_superstructure_bamboo', 0.07777505487920311],\n",
       " ['has_superstructure_rc_non_engineered', 0.21294726021176905],\n",
       " ['has_superstructure_rc_engineered', 0.24306162571376244],\n",
       " ['has_superstructure_other', 0.035730980209099664],\n",
       " ['has_geotechnical_risk', 0.08894886012774808],\n",
       " ['has_geotechnical_risk_fault_crack', 0.10073006730766738],\n",
       " ['has_geotechnical_risk_flood', 0.03175636548209928],\n",
       " ['has_geotechnical_risk_land_settlement', 0.05789496011707349],\n",
       " ['has_geotechnical_risk_landslide', 0.06986946541177956],\n",
       " ['has_geotechnical_risk_liquefaction', 0.020957175572012158],\n",
       " ['has_geotechnical_risk_other', 0.007301911809520293],\n",
       " ['has_geotechnical_risk_rock_fall', 0.06481739249408013]]"
      ]
     },
     "execution_count": 33,
     "metadata": {},
     "output_type": "execute_result"
    }
   ],
   "source": [
    "cramers_v(cat_binary, trainfinal['damage_grade'])"
   ]
  },
  {
   "cell_type": "code",
   "execution_count": 34,
   "metadata": {},
   "outputs": [
    {
     "name": "stdout",
     "output_type": "stream",
     "text": [
      "has_secondary_use\n",
      "dof=4\n",
      "probability=0.950, critical=9.488, stat=4505.585\n",
      "Dependent (reject H0)\n",
      "significance=0.050, p=0.000\n",
      "Dependent (reject H0)\n",
      " \n",
      "has_secondary_use_agriculture\n",
      "dof=4\n",
      "probability=0.950, critical=9.488, stat=2239.252\n",
      "Dependent (reject H0)\n",
      "significance=0.050, p=0.000\n",
      "Dependent (reject H0)\n",
      " \n",
      "has_secondary_use_hotel\n",
      "dof=4\n",
      "probability=0.950, critical=9.488, stat=8998.122\n",
      "Dependent (reject H0)\n",
      "significance=0.050, p=0.000\n",
      "Dependent (reject H0)\n",
      " \n",
      "has_secondary_use_rental\n",
      "dof=4\n",
      "probability=0.950, critical=9.488, stat=7371.281\n",
      "Dependent (reject H0)\n",
      "significance=0.050, p=0.000\n",
      "Dependent (reject H0)\n",
      " \n",
      "has_secondary_use_institution\n",
      "dof=4\n",
      "probability=0.950, critical=9.488, stat=1015.168\n",
      "Dependent (reject H0)\n",
      "significance=0.050, p=0.000\n",
      "Dependent (reject H0)\n",
      " \n",
      "has_secondary_use_school\n",
      "dof=4\n",
      "probability=0.950, critical=9.488, stat=286.825\n",
      "Dependent (reject H0)\n",
      "significance=0.050, p=0.000\n",
      "Dependent (reject H0)\n",
      " \n",
      "has_secondary_use_industry\n",
      "dof=4\n",
      "probability=0.950, critical=9.488, stat=97.207\n",
      "Dependent (reject H0)\n",
      "significance=0.050, p=0.000\n",
      "Dependent (reject H0)\n",
      " \n",
      "has_secondary_use_health_post\n",
      "dof=4\n",
      "probability=0.950, critical=9.488, stat=55.824\n",
      "Dependent (reject H0)\n",
      "significance=0.050, p=0.000\n",
      "Dependent (reject H0)\n",
      " \n",
      "has_secondary_use_gov_office\n",
      "dof=4\n",
      "probability=0.950, critical=9.488, stat=72.708\n",
      "Dependent (reject H0)\n",
      "significance=0.050, p=0.000\n",
      "Dependent (reject H0)\n",
      " \n",
      "has_secondary_use_use_police\n",
      "dof=4\n",
      "probability=0.950, critical=9.488, stat=5.766\n",
      "Independent (fail to reject H0)\n",
      "significance=0.050, p=0.217\n",
      "Independent (fail to reject H0)\n",
      " \n",
      "has_secondary_use_other\n",
      "dof=4\n",
      "probability=0.950, critical=9.488, stat=367.912\n",
      "Dependent (reject H0)\n",
      "significance=0.050, p=0.000\n",
      "Dependent (reject H0)\n",
      " \n",
      "has_superstructure_adobe_mud\n",
      "dof=4\n",
      "probability=0.950, critical=9.488, stat=7518.875\n",
      "Dependent (reject H0)\n",
      "significance=0.050, p=0.000\n",
      "Dependent (reject H0)\n",
      " \n",
      "has_superstructure_mud_mortar_stone\n",
      "dof=4\n",
      "probability=0.950, critical=9.488, stat=78104.135\n",
      "Dependent (reject H0)\n",
      "significance=0.050, p=0.000\n",
      "Dependent (reject H0)\n",
      " \n",
      "has_superstructure_stone_flag\n",
      "dof=4\n",
      "probability=0.950, critical=9.488, stat=2567.477\n",
      "Dependent (reject H0)\n",
      "significance=0.050, p=0.000\n",
      "Dependent (reject H0)\n",
      " \n",
      "has_superstructure_cement_mortar_stone\n",
      "dof=4\n",
      "probability=0.950, critical=9.488, stat=3658.148\n",
      "Dependent (reject H0)\n",
      "significance=0.050, p=0.000\n",
      "Dependent (reject H0)\n",
      " \n",
      "has_superstructure_mud_mortar_brick\n",
      "dof=4\n",
      "probability=0.950, critical=9.488, stat=5503.226\n",
      "Dependent (reject H0)\n",
      "significance=0.050, p=0.000\n",
      "Dependent (reject H0)\n",
      " \n",
      "has_superstructure_cement_mortar_brick\n",
      "dof=4\n",
      "probability=0.950, critical=9.488, stat=63016.243\n",
      "Dependent (reject H0)\n",
      "significance=0.050, p=0.000\n",
      "Dependent (reject H0)\n",
      " \n",
      "has_superstructure_timber\n",
      "dof=4\n",
      "probability=0.950, critical=9.488, stat=4264.732\n",
      "Dependent (reject H0)\n",
      "significance=0.050, p=0.000\n",
      "Dependent (reject H0)\n",
      " \n",
      "has_superstructure_bamboo\n",
      "dof=4\n",
      "probability=0.950, critical=9.488, stat=3825.490\n",
      "Dependent (reject H0)\n",
      "significance=0.050, p=0.000\n",
      "Dependent (reject H0)\n",
      " \n",
      "has_superstructure_rc_non_engineered\n",
      "dof=4\n",
      "probability=0.950, critical=9.488, stat=28652.127\n",
      "Dependent (reject H0)\n",
      "significance=0.050, p=0.000\n",
      "Dependent (reject H0)\n",
      " \n",
      "has_superstructure_rc_engineered\n",
      "dof=4\n",
      "probability=0.950, critical=9.488, stat=37327.720\n",
      "Dependent (reject H0)\n",
      "significance=0.050, p=0.000\n",
      "Dependent (reject H0)\n",
      " \n",
      "has_superstructure_other\n",
      "dof=4\n",
      "probability=0.950, critical=9.488, stat=810.570\n",
      "Dependent (reject H0)\n",
      "significance=0.050, p=0.000\n",
      "Dependent (reject H0)\n",
      " \n",
      "has_geotechnical_risk\n",
      "dof=4\n",
      "probability=0.950, critical=9.488, stat=5002.422\n",
      "Dependent (reject H0)\n",
      "significance=0.050, p=0.000\n",
      "Dependent (reject H0)\n",
      " \n",
      "has_geotechnical_risk_fault_crack\n",
      "dof=4\n",
      "probability=0.950, critical=9.488, stat=6414.182\n",
      "Dependent (reject H0)\n",
      "significance=0.050, p=0.000\n",
      "Dependent (reject H0)\n",
      " \n",
      "has_geotechnical_risk_flood\n",
      "dof=4\n",
      "probability=0.950, critical=9.488, stat=641.109\n",
      "Dependent (reject H0)\n",
      "significance=0.050, p=0.000\n",
      "Dependent (reject H0)\n",
      " \n",
      "has_geotechnical_risk_land_settlement\n",
      "dof=4\n",
      "probability=0.950, critical=9.488, stat=2121.550\n",
      "Dependent (reject H0)\n",
      "significance=0.050, p=0.000\n",
      "Dependent (reject H0)\n",
      " \n",
      "has_geotechnical_risk_landslide\n",
      "dof=4\n",
      "probability=0.950, critical=9.488, stat=3088.089\n",
      "Dependent (reject H0)\n",
      "significance=0.050, p=0.000\n",
      "Dependent (reject H0)\n",
      " \n",
      "has_geotechnical_risk_liquefaction\n",
      "dof=4\n",
      "probability=0.950, critical=9.488, stat=281.471\n",
      "Dependent (reject H0)\n",
      "significance=0.050, p=0.000\n",
      "Dependent (reject H0)\n",
      " \n",
      "has_geotechnical_risk_other\n",
      "dof=4\n",
      "probability=0.950, critical=9.488, stat=37.684\n",
      "Dependent (reject H0)\n",
      "significance=0.050, p=0.000\n",
      "Dependent (reject H0)\n",
      " \n",
      "has_geotechnical_risk_rock_fall\n",
      "dof=4\n",
      "probability=0.950, critical=9.488, stat=2658.210\n",
      "Dependent (reject H0)\n",
      "significance=0.050, p=0.000\n",
      "Dependent (reject H0)\n",
      " \n"
     ]
    }
   ],
   "source": [
    "ChiSquareTest(cat_binary,trainfinal)"
   ]
  },
  {
   "cell_type": "code",
   "execution_count": 35,
   "metadata": {},
   "outputs": [],
   "source": [
    "trainfinal.drop(['has_secondary_use_use_police','building_id'], axis = 1,inplace=True)\n",
    "testfinal.drop(['has_secondary_use_use_police','building_id'], axis = 1,inplace=True)"
   ]
  },
  {
   "cell_type": "code",
   "execution_count": 36,
   "metadata": {},
   "outputs": [],
   "source": [
    "cont = [c for c in trainfinal if len(trainfinal[c].unique()) > 15]\n",
    "indices = 0,1,2,3\n",
    "cont = [i for j, i in enumerate(cont) if j not in indices]"
   ]
  },
  {
   "cell_type": "code",
   "execution_count": 37,
   "metadata": {},
   "outputs": [],
   "source": [
    "train_copy = trainfinal\n",
    "test_copy = testfinal"
   ]
  },
  {
   "cell_type": "code",
   "execution_count": 38,
   "metadata": {},
   "outputs": [],
   "source": [
    "train_copy['IsPrivate'] = (train_copy[\"legal_ownership_status\"] == \"Private\") * 1 \n",
    "test_copy['IsPrivate'] = (test_copy[\"legal_ownership_status\"] == \"Private\") * 1"
   ]
  },
  {
   "cell_type": "code",
   "execution_count": 39,
   "metadata": {},
   "outputs": [],
   "source": [
    "train_copy['IsFlat'] = (train_copy[\"land_surface_condition\"] == \"Flat\") * 1\n",
    "test_copy['IsFlat'] = (test_copy[\"land_surface_condition\"] == \"Flat\") * 1\n",
    "train_copy['IsMudFoundation'] = (train_copy[\"foundation_type\"] == \"Mud mortar-Stone/Brick\") * 1\n",
    "test_copy['IsMudFoundation'] = (test_copy[\"foundation_type\"] == \"Mud mortar-Stone/Brick\") * 1\n",
    "train_copy['IsBambooRoofLight'] = (train_copy[\"roof_type\"] == \"Bamboo/Timber-Light roof\") * 1\n",
    "test_copy['IsBambooRoofLight'] = (test_copy[\"roof_type\"] == \"Bamboo/Timber-Light roof\") * 1\n",
    "train_copy['IsFloorTypeMud'] = (train_copy[\"ground_floor_type\"] == \"Mud\") * 1\n",
    "test_copy['IsFloorTypeMud'] = (test_copy[\"ground_floor_type\"] == \"Mud\") * 1\n",
    "train_copy['OtherFloorTypeMud'] = (train_copy[\"other_floor_type\"] == \"TImber/Bamboo-Mud\") * 1\n",
    "test_copy['OtherFloorTypeMud'] = (test_copy[\"other_floor_type\"] == \"TImber/Bamboo-Mud\") * 1\n",
    "train_copy['IsNotAttached'] = (train_copy[\"position\"] == \"Not attached\") * 1\n",
    "test_copy['IsNotAttached'] = (test_copy[\"position\"] == \"Not attached\") * 1\n",
    "train_copy['IsPlanConfigRectangular'] = (train_copy[\"plan_configuration\"] == \"Rectangular\") * 1\n",
    "test_copy['IsPlanConfigRectangular'] = (test_copy[\"plan_configuration\"] == \"Rectangular\") * 1\n",
    "train_copy['count_floors_change'] = (train_copy['count_floors_post_eq'] - train_copy['count_floors_pre_eq'])\n",
    "train_copy['height_ft_change'] = (train_copy['height_ft_post_eq'] - train_copy['height_ft_pre_eq'])\n",
    "test_copy['count_floors_change'] = (test_copy['count_floors_post_eq'] - test_copy['count_floors_pre_eq'])\n",
    "test_copy['height_ft_change'] = (test_copy['height_ft_post_eq'] - test_copy['height_ft_pre_eq'])"
   ]
  },
  {
   "cell_type": "code",
   "execution_count": 40,
   "metadata": {},
   "outputs": [],
   "source": [
    "train_copy.drop(['count_floors_pre_eq', 'height_ft_pre_eq'], axis=1, inplace=True)\n",
    "test_copy.drop(['count_floors_pre_eq', 'height_ft_pre_eq'], axis=1, inplace=True)"
   ]
  },
  {
   "cell_type": "code",
   "execution_count": 41,
   "metadata": {},
   "outputs": [],
   "source": [
    "remove_columns = [\"legal_ownership_status\",\"land_surface_condition\",\"foundation_type\",\"roof_type\",\"ground_floor_type\",\"other_floor_type\",\"position\",\"plan_configuration\",\"count_floors_post_eq\",\"height_ft_post_eq\"]\n",
    "def dropColumns(res_train_copy,res_test_copy,remove_columns):\n",
    "  for i in remove_columns:\n",
    "    res_train_copy.drop([i],axis = 1, inplace = True)\n",
    "    res_test_copy.drop([i],axis = 1, inplace = True)\n",
    "    \n",
    "  return res_train_copy,res_test_copy"
   ]
  },
  {
   "cell_type": "code",
   "execution_count": 42,
   "metadata": {},
   "outputs": [],
   "source": [
    "train_copy, test_copy = dropColumns(train_copy,test_copy,remove_columns)"
   ]
  },
  {
   "cell_type": "code",
   "execution_count": 43,
   "metadata": {},
   "outputs": [
    {
     "data": {
      "text/plain": [
       "(631761, 48)"
      ]
     },
     "execution_count": 43,
     "metadata": {},
     "output_type": "execute_result"
    }
   ],
   "source": [
    "train_copy.shape"
   ]
  },
  {
   "cell_type": "code",
   "execution_count": 44,
   "metadata": {},
   "outputs": [],
   "source": [
    "train_copy['count_families'].fillna(train_copy['count_families'].mode()[0],inplace=True)\n",
    "test_copy['count_families'].fillna(test_copy['count_families'].mode()[0],inplace=True)"
   ]
  },
  {
   "cell_type": "code",
   "execution_count": 45,
   "metadata": {},
   "outputs": [],
   "source": [
    "train_one_hot = pd.get_dummies(train_copy)\n",
    "test_one_hot = pd.get_dummies(test_copy)\n",
    "train_one_hot.drop([\"district_id_x\",\"vdcmun_id_x\",\"ward_id_x\"],axis = 1, inplace = True)\n",
    "test_one_hot.drop([\"district_id_x\",\"vdcmun_id_x\",\"ward_id_x\"],axis = 1, inplace = True)"
   ]
  },
  {
   "cell_type": "code",
   "execution_count": 46,
   "metadata": {},
   "outputs": [],
   "source": [
    "y_train = train_one_hot['damage_grade']\n",
    "train_one_hot.drop(['damage_grade'], axis = 1, inplace = True)"
   ]
  },
  {
   "cell_type": "code",
   "execution_count": 47,
   "metadata": {},
   "outputs": [
    {
     "name": "stdout",
     "output_type": "stream",
     "text": [
      "<class 'pandas.core.frame.DataFrame'>\n",
      "Int64Index: 419863 entries, 0 to 419862\n",
      "Data columns (total 55 columns):\n",
      " #   Column                                                     Non-Null Count   Dtype  \n",
      "---  ------                                                     --------------   -----  \n",
      " 0   count_families                                             419863 non-null  float64\n",
      " 1   has_secondary_use                                          419863 non-null  float64\n",
      " 2   has_secondary_use_agriculture                              419863 non-null  int64  \n",
      " 3   has_secondary_use_hotel                                    419863 non-null  int64  \n",
      " 4   has_secondary_use_rental                                   419863 non-null  int64  \n",
      " 5   has_secondary_use_institution                              419863 non-null  int64  \n",
      " 6   has_secondary_use_school                                   419863 non-null  int64  \n",
      " 7   has_secondary_use_industry                                 419863 non-null  int64  \n",
      " 8   has_secondary_use_health_post                              419863 non-null  int64  \n",
      " 9   has_secondary_use_gov_office                               419863 non-null  int64  \n",
      " 10  has_secondary_use_other                                    419863 non-null  int64  \n",
      " 11  age_building                                               419863 non-null  int64  \n",
      " 12  plinth_area_sq_ft                                          419863 non-null  int64  \n",
      " 13  has_superstructure_adobe_mud                               419863 non-null  int64  \n",
      " 14  has_superstructure_mud_mortar_stone                        419863 non-null  int64  \n",
      " 15  has_superstructure_stone_flag                              419863 non-null  int64  \n",
      " 16  has_superstructure_cement_mortar_stone                     419863 non-null  int64  \n",
      " 17  has_superstructure_mud_mortar_brick                        419863 non-null  int64  \n",
      " 18  has_superstructure_cement_mortar_brick                     419863 non-null  int64  \n",
      " 19  has_superstructure_timber                                  419863 non-null  int64  \n",
      " 20  has_superstructure_bamboo                                  419863 non-null  int64  \n",
      " 21  has_superstructure_rc_non_engineered                       419863 non-null  int64  \n",
      " 22  has_superstructure_rc_engineered                           419863 non-null  int64  \n",
      " 23  has_superstructure_other                                   419863 non-null  int64  \n",
      " 24  has_geotechnical_risk                                      419863 non-null  int64  \n",
      " 25  has_geotechnical_risk_fault_crack                          419863 non-null  int64  \n",
      " 26  has_geotechnical_risk_flood                                419863 non-null  int64  \n",
      " 27  has_geotechnical_risk_land_settlement                      419863 non-null  int64  \n",
      " 28  has_geotechnical_risk_landslide                            419863 non-null  int64  \n",
      " 29  has_geotechnical_risk_liquefaction                         419863 non-null  int64  \n",
      " 30  has_geotechnical_risk_other                                419863 non-null  int64  \n",
      " 31  has_geotechnical_risk_rock_fall                            419863 non-null  int64  \n",
      " 32  IsPrivate                                                  419863 non-null  int32  \n",
      " 33  IsFlat                                                     419863 non-null  int32  \n",
      " 34  IsMudFoundation                                            419863 non-null  int32  \n",
      " 35  IsBambooRoofLight                                          419863 non-null  int32  \n",
      " 36  IsFloorTypeMud                                             419863 non-null  int32  \n",
      " 37  OtherFloorTypeMud                                          419863 non-null  int32  \n",
      " 38  IsNotAttached                                              419863 non-null  int32  \n",
      " 39  IsPlanConfigRectangular                                    419863 non-null  int32  \n",
      " 40  count_floors_change                                        419863 non-null  int64  \n",
      " 41  height_ft_change                                           419863 non-null  int64  \n",
      " 42  condition_post_eq_Covered by landslide                     419863 non-null  uint8  \n",
      " 43  condition_post_eq_Damaged-Not used                         419863 non-null  uint8  \n",
      " 44  condition_post_eq_Damaged-Repaired and used                419863 non-null  uint8  \n",
      " 45  condition_post_eq_Damaged-Rubble Clear-New building built  419863 non-null  uint8  \n",
      " 46  condition_post_eq_Damaged-Rubble clear                     419863 non-null  uint8  \n",
      " 47  condition_post_eq_Damaged-Rubble unclear                   419863 non-null  uint8  \n",
      " 48  condition_post_eq_Damaged-Used in risk                     419863 non-null  uint8  \n",
      " 49  condition_post_eq_Not damaged                              419863 non-null  uint8  \n",
      " 50  area_assesed_Both                                          419863 non-null  uint8  \n",
      " 51  area_assesed_Building removed                              419863 non-null  uint8  \n",
      " 52  area_assesed_Exterior                                      419863 non-null  uint8  \n",
      " 53  area_assesed_Interior                                      419863 non-null  uint8  \n",
      " 54  area_assesed_Not able to inspect                           419863 non-null  uint8  \n",
      "dtypes: float64(2), int32(8), int64(32), uint8(13)\n",
      "memory usage: 130.1 MB\n"
     ]
    }
   ],
   "source": [
    "test_one_hot.info()\n"
   ]
  },
  {
   "cell_type": "code",
   "execution_count": 48,
   "metadata": {},
   "outputs": [],
   "source": [
    "from sklearn.model_selection import train_test_split\n",
    "X_train, X_test,z_train, y_test = train_test_split(train_one_hot, y_train, test_size=0.3, random_state=101)"
   ]
  },
  {
   "cell_type": "code",
   "execution_count": 49,
   "metadata": {},
   "outputs": [
    {
     "name": "stdout",
     "output_type": "stream",
     "text": [
      "0.5834674377008268\n"
     ]
    }
   ],
   "source": [
    "\n",
    "from sklearn.metrics import classification_report,f1_score,precision_score,recall_score,accuracy_score\n",
    "from sklearn.linear_model import LogisticRegression\n",
    "clf_lr = LogisticRegression(random_state=0)\n",
    "clf_lr.fit(X_train,z_train)\n",
    "pred = clf_lr.predict(X_test)\n",
    "lra=accuracy_score(y_test,pred)\n",
    "print(lra)"
   ]
  },
  {
   "cell_type": "code",
   "execution_count": 50,
   "metadata": {},
   "outputs": [
    {
     "name": "stdout",
     "output_type": "stream",
     "text": [
      "0.6701612945776109\n"
     ]
    }
   ],
   "source": [
    "from sklearn.naive_bayes import GaussianNB\n",
    "clf_gnb = GaussianNB()\n",
    "clf_gnb.fit(X_train,z_train)\n",
    "pred = clf_gnb.predict(X_test)\n",
    "nba=accuracy_score(y_test,pred)\n",
    "print(nba)"
   ]
  },
  {
   "cell_type": "code",
   "execution_count": 51,
   "metadata": {},
   "outputs": [
    {
     "name": "stdout",
     "output_type": "stream",
     "text": [
      "0.6890027383672156\n"
     ]
    }
   ],
   "source": [
    "from sklearn.ensemble import RandomForestClassifier\n",
    "clf_rfc = RandomForestClassifier(random_state=0)\n",
    "clf_rfc.fit(X_train,z_train)\n",
    "pred = clf_rfc.predict(X_test)\n",
    "rfa=accuracy_score(y_test,pred)\n",
    "print(rfa)"
   ]
  },
  {
   "cell_type": "code",
   "execution_count": 52,
   "metadata": {},
   "outputs": [
    {
     "name": "stdout",
     "output_type": "stream",
     "text": [
      "0.6232872014309155\n"
     ]
    }
   ],
   "source": [
    "from sklearn.neighbors import KNeighborsClassifier\n",
    "clf_knn = KNeighborsClassifier()\n",
    "clf_knn.fit(X_train,z_train)\n",
    "pred = clf_knn.predict(X_test)\n",
    "kna=accuracy_score(y_test,pred)\n",
    "print(kna)"
   ]
  },
  {
   "cell_type": "code",
   "execution_count": 53,
   "metadata": {},
   "outputs": [],
   "source": [
    "score_lr=lra*100\n",
    "score_nb=nba*100\n",
    "score_knn=kna*100\n",
    "score_rf=rfa*100"
   ]
  },
  {
   "cell_type": "code",
   "execution_count": 55,
   "metadata": {},
   "outputs": [
    {
     "name": "stdout",
     "output_type": "stream",
     "text": [
      "[58.346743770082675, 67.01612945776108, 62.32872014309155, 68.90027383672155]\n"
     ]
    }
   ],
   "source": [
    "scores = [score_lr,score_nb,score_knn,score_rf]\n",
    "print(scores)"
   ]
  },
  {
   "cell_type": "code",
   "execution_count": 57,
   "metadata": {},
   "outputs": [
    {
     "name": "stdout",
     "output_type": "stream",
     "text": [
      "The accuracy score achieved using Logistic Regression is: 58.346743770082675 %\n",
      "The accuracy score achieved using Naive Bayes is: 67.01612945776108 %\n",
      "The accuracy score achieved using K-Nearest Neighbors is: 62.32872014309155 %\n",
      "The accuracy score achieved using Random Forest is: 68.90027383672155 %\n"
     ]
    }
   ],
   "source": [
    "\n",
    "algorithms = [\"Logistic Regression\",\"Naive Bayes\",\"K-Nearest Neighbors\",\"Random Forest\"]       \n",
    "\n",
    "for i in range(len(algorithms)):\n",
    "    print(\"The accuracy score achieved using \"+algorithms[i]+\" is: \"+str(scores[i])+\" %\")"
   ]
  },
  {
   "cell_type": "code",
   "execution_count": 59,
   "metadata": {},
   "outputs": [
    {
     "data": {
      "text/plain": [
       "<AxesSubplot:xlabel='Algorithms', ylabel='Accuracy score'>"
      ]
     },
     "execution_count": 59,
     "metadata": {},
     "output_type": "execute_result"
    },
    {
     "data": {
      "image/png": "[encoded data removed]",
      "text/plain": [
       "<Figure size 720x576 with 1 Axes>"
      ]
     },
     "metadata": {},
     "output_type": "display_data"
    }
   ],
   "source": [
    "sns.set(rc={'figure.figsize':(10,8)})\n",
    "plt.xlabel(\"Algorithms\")\n",
    "plt.ylabel(\"Accuracy score\")\n",
    "\n",
    "sns.barplot(algorithms,scores)"
   ]
  }
 ],
 "metadata": {
  "kernelspec": {
   "display_name": "Python 3",
   "language": "python",
   "name": "python3"
  },
  "language_info": {
   "codemirror_mode": {
    "name": "ipython",
    "version": 3
   },
   "file_extension": ".py",
   "mimetype": "text/x-python",
   "name": "python",
   "nbconvert_exporter": "python",
   "pygments_lexer": "ipython3",
   "version": "3.8.5"
  }
 },
 "nbformat": 4,
 "nbformat_minor": 4
}
